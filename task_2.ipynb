{
  "nbformat": 4,
  "nbformat_minor": 0,
  "metadata": {
    "colab": {
      "provenance": [],
      "include_colab_link": true
    },
    "kernelspec": {
      "name": "python3",
      "display_name": "Python 3"
    },
    "language_info": {
      "name": "python"
    }
  },
  "cells": [
    {
      "cell_type": "markdown",
      "metadata": {
        "id": "view-in-github",
        "colab_type": "text"
      },
      "source": [
        "<a href=\"https://colab.research.google.com/github/DotBion/improved-octo-sniffle/blob/main/task_2.ipynb\" target=\"_parent\"><img src=\"https://colab.research.google.com/assets/colab-badge.svg\" alt=\"Open In Colab\"/></a>"
      ]
    },
    {
      "cell_type": "code",
      "execution_count": 2,
      "metadata": {
        "id": "F5yiUOwN-gRO"
      },
      "outputs": [],
      "source": [
        "import pandas as pd"
      ]
    },
    {
      "cell_type": "code",
      "source": [
        "df = pd.read_csv(\"/content/user_transactions.csv\", parse_dates=['date'], infer_datetime_format=True)"
      ],
      "metadata": {
        "colab": {
          "base_uri": "https://localhost:8080/"
        },
        "id": "RyaEjOKM_AX5",
        "outputId": "e1ec5675-c677-40ac-a8cd-3427f3de0136"
      },
      "execution_count": 4,
      "outputs": [
        {
          "output_type": "stream",
          "name": "stderr",
          "text": [
            "<ipython-input-4-a676fb7f898a>:1: FutureWarning: The argument 'infer_datetime_format' is deprecated and will be removed in a future version. A strict version of it is now the default, see https://pandas.pydata.org/pdeps/0004-consistent-to-datetime-parsing.html. You can safely remove this argument.\n",
            "  df = pd.read_csv(\"/content/user_transactions.csv\", parse_dates=['date'], infer_datetime_format=True)\n"
          ]
        }
      ]
    },
    {
      "cell_type": "code",
      "source": [
        "df.primaryPFC.unique()"
      ],
      "metadata": {
        "colab": {
          "base_uri": "https://localhost:8080/"
        },
        "id": "7DpA-QkkEV5d",
        "outputId": "de717a3e-8bf2-450a-cdb4-4c558e2d5bd3"
      },
      "execution_count": 5,
      "outputs": [
        {
          "output_type": "execute_result",
          "data": {
            "text/plain": [
              "array(['FOOD_AND_DRINK', 'GENERAL_MERCHANDISE', 'TRANSPORTATION',\n",
              "       'RENT_AND_UTILITIES', 'LOAN_PAYMENTS', 'BANK_FEES',\n",
              "       'PERSONAL_CARE', 'ENTERTAINMENT', 'TRAVEL', 'GENERAL_SERVICES',\n",
              "       'MEDICAL', 'HOME_IMPROVEMENT', 'OTHER',\n",
              "       'GOVERNMENT_AND_NON_PROFIT'], dtype=object)"
            ]
          },
          "metadata": {},
          "execution_count": 5
        }
      ]
    },
    {
      "cell_type": "markdown",
      "source": [
        "**Rationale**\n",
        "- I flag BNPL by finding three or more identical payments spaced about 30 ± 5 days apart—since BNPL plans split one purchase into equal monthly installments.\n",
        "- I only look at transactions labeled under LOAN_PAYMENTS, then drop mortgages, car and student loans so I don’t mistake longer-term loans for BNPL.\n",
        "- This also knocks out subscriptions (e.g. Netflix) that happen every month but aren’t credit-based purchases."
      ],
      "metadata": {
        "id": "9xW9NvnHbFNH"
      }
    },
    {
      "cell_type": "code",
      "source": [
        "bnpl_idxs = set()\n",
        "min_txns = 3\n",
        "tol_low, tol_high = 25, 35\n",
        "\n",
        "# Group by user and amount only for performance\n",
        "for (user, amt), grp in df.groupby(['userId', 'amount']):\n",
        "    if len(grp) < min_txns:\n",
        "        continue\n",
        "    grp_sorted = grp.sort_values('date')\n",
        "    diffs = grp_sorted['date'].diff().dt.days.dropna()\n",
        "    if diffs.between(tol_low, tol_high).all():\n",
        "        bnpl_idxs.update(grp_sorted.index)\n",
        "\n",
        "df['is_bnpl'] = df.index.isin(bnpl_idxs)"
      ],
      "metadata": {
        "id": "4S0oBIUuEr39"
      },
      "execution_count": 23,
      "outputs": []
    },
    {
      "cell_type": "code",
      "source": [
        "df_bnpl = df[(df['is_bnpl'] == True)\n",
        "  & (df['primaryPFC'] == 'LOAN_PAYMENTS')\n",
        "  & ~df['detailedPFC'].isin([\n",
        "    'LOAN_PAYMENTS_MORTGAGE_PAYMENT',\n",
        "    'LOAN_PAYMENTS_STUDENT_LOAN_PAYMENT',\n",
        "    'LOAN_PAYMENTS_CAR_PAYMENT'\n",
        "])]"
      ],
      "metadata": {
        "id": "-pzRxGd_P_Da"
      },
      "execution_count": 24,
      "outputs": []
    },
    {
      "cell_type": "code",
      "source": [
        "df_bnpl.transactionName.unique()"
      ],
      "metadata": {
        "colab": {
          "base_uri": "https://localhost:8080/"
        },
        "id": "AdVxVIPQMavX",
        "outputId": "b1de3a1b-5bd4-40c1-c901-bd58f9ab89b1"
      },
      "execution_count": 26,
      "outputs": [
        {
          "output_type": "execute_result",
          "data": {
            "text/plain": [
              "array(['Withdrawal AFFIRM INC TYPE: AF', 'Withdrawal Transfer To Loan 00',\n",
              "       'Debit Card Withdrawal ROCKETLA', 'Home Banking Advance To Loan 9',\n",
              "       'Home Banking Withdrawal To Loa', 'Withdrawal To Loan 30',\n",
              "       'Withdrawal Transfer To Loan 06', 'CAPITAL ONE',\n",
              "       'CAPITAL ONE MOBILE PYMT AuthDa', 'ACH Withdrawal GreenSky TYPE: ',\n",
              "       'Withdrawal Transfer To Loan 01', 'ONLINE PAYMENT',\n",
              "       'ONLINE PAYMENT DEERFIELD IL pa', 'ACH Withdrawal SoFi Bank PL TY',\n",
              "       'AFFIRM INC AFFIRM PAY 7522984 ', 'AFFIRM INC AFFIRM PAY 8890745 ',\n",
              "       'AFFIRM INC AFFIRM PAY 9940165 ', 'SEZZLE INC sezzle.com MN 01/09',\n",
              "       'SEZZLE INC sezzle.com MN 02/09', 'SEZZLE INC sezzle.com MN 12/09',\n",
              "       'SYNCHRONY BANK PAYMENT 6019191', 'CAPITAL ONE AUTOPAY PYMT AuthD',\n",
              "       'External Withdrawal AFFIRM INC', 'Payment to Affirm.com',\n",
              "       'Point Of Sale Withdrawal AFFIR', 'Credit Card Advance IPHONE CIT',\n",
              "       'Withdrawal Transfer To KIRKSEY', 'Withdrawal To Loan 90',\n",
              "       'Withdrawal ACH CREDIT UNION ON', 'Withdrawal eBanking Transfer T',\n",
              "       'Withdrawal Transfer To Loan 02', 'Withdrawal COMENITY PAY OH TYP',\n",
              "       'Withdrawal Synchrony Bank TYPE', 'Withdrawal Transfer To Loan 05',\n",
              "       'Aspiration Pay What is Fair', 'Withdrawal LendingClub TYPE: X',\n",
              "       'MIDWEST LOAN MTG PMT 075001833', 'Withdrawal AMEX EPAYMENT TYPE:',\n",
              "       'Withdrawal Bill Payment #37818', 'Withdrawal Bill Payment #91134',\n",
              "       'Withdrawal Bill Payment #91722', 'Withdrawal Capital One TYPE: C',\n",
              "       'Withdrawal SYNCHRONY BANK TYPE', 'CHECKCARD 0115 LENDSWIFT XXXXX',\n",
              "       'CHECKCARD 1115 LENDSWIFT XXXXX', 'CHECKCARD 1213 LENDSWIFT XXXXX',\n",
              "       'Withdrawal Bill Payment #39548', 'TELCO PLUS CU - 423 GILMER RD',\n",
              "       'ACH Withdrawal FLAGSTAR BANK N', 'Withdrawal Bill Payment #72283',\n",
              "       'Withdrawal Bill Payment #91194', 'Withdrawal Bill Payment #91884',\n",
              "       'BANK OF AMERICA ONLINE PMT', 'WEB INITIATED PAYMENT AT AMEX ',\n",
              "       'WEB INITIATED PAYMENT AT APPLE', 'WEB INITIATED PAYMENT AT CREDI',\n",
              "       'WEB INITIATED PAYMENT AT SYNCH', 'Withdrawal Bill Payment #09141',\n",
              "       'Withdrawal Bill Payment #30449', 'Withdrawal Bill Payment #43334',\n",
              "       'Withdrawal Bill Payment #69954', 'Withdrawal Bill Payment #74095',\n",
              "       'Withdrawal Bill Payment #98198', 'Loan Payment',\n",
              "       'Transfer to Loan 0604', 'Withdrawal HUNTINGTON BANKS TY',\n",
              "       'Withdrawal Bill Payment #15927', 'Withdrawal Bill Payment #28661',\n",
              "       'Withdrawal Bill Payment #83995', 'CRB Best Egg Payment Flexible ',\n",
              "       'Withdrawal Internet Banking Tr', 'PAYMENT AUTOFORTIVA PMT 0921 P',\n",
              "       'Withdrawal Bill Payment #25878', 'Withdrawal Bill Payment #64259',\n",
              "       'Withdrawal Bill Payment #94039', 'SEZZLE INC 700 NICOLET MALL #6',\n",
              "       'Withdrawal To Loan 50', 'Kikoff* Amv2 Obtsbvfkdn',\n",
              "       'Kikoff* Fdxwli7 Z7 S44 Ha', 'Kikoff* Xii4 Hwudpkl7 Tv',\n",
              "       'Withdrawal VISA INSTANT SHEFFI', 'External Withdrawal - CITI CAR',\n",
              "       'External Withdrawal - DISCOVER', 'INTERNET PAYMENT - THANK YOU',\n",
              "       'ONLINE PAYMENT, THANK YOU', 'Withdrawal To Loan 93',\n",
              "       'Withdrawal Earnin TYPE: REPAYM', 'AFFIRM INC', 'AtlasFinancial',\n",
              "       'UPSTART NETWORK', 'CITIZENS LN PYMT REG PAYMT 000',\n",
              "       'Stash Financial Stash Subs PPD', 'Bank of Bartlett WEB PMTS 824 ',\n",
              "       'Bank of Bartlett WEB PMTS JB4 ', 'Bank of Bartlett WEB PMTS QL4 ',\n",
              "       'Withdrawal Centennial Lendi TY', 'Recurring Withdrawal Bill Paym',\n",
              "       'Withdrawal To Loan 91', 'Internet Payment Thank You',\n",
              "       'ACH Withdrawal FIRST COMMONWEA', 'Withdrawal Bill Payment #32716',\n",
              "       'Withdrawal Bill Payment #65453', 'Withdrawal Bill Payment #85769',\n",
              "       'Phone Authorized Pmt Portfolio', 'Web Authorized Pmt Community T',\n",
              "       'Withdrawal CAPITAL ONE TYPE: C', 'Withdrawal TRUE CommunityCU TY',\n",
              "       'Debit Purchase -visa Radius Ca', 'Phone Authorized Pmt Era Trust',\n",
              "       'Web Authorized Pmt Capital One', 'Withdrawal Bill Payment #21171',\n",
              "       'Withdrawal Bill Payment #21176', 'Withdrawal Bill Payment #23031',\n",
              "       'Withdrawal Bill Payment #29250', 'Withdrawal Bill Payment #32246',\n",
              "       'Withdrawal Bill Payment #32259', 'Withdrawal Bill Payment #35854',\n",
              "       'Withdrawal Bill Payment #77992', 'Withdrawal Bill Payment #88408',\n",
              "       'APPLECARD GSBANK', 'Earnin REPAYMENT XXXXX0323 Joa',\n",
              "       'Earnin REPAYMENT XXXXX4152 Joa', 'Earnin REPAYMENT XXXXX4715 Joa',\n",
              "       'ONEMAIN LOAN PYMNT 241015 4316', 'ONEMAIN LOAN PYMNT 241115 4316',\n",
              "       'ONEMAIN LOAN PYMNT 241215 4316', 'ONEMAIN LOAN PYMNT 250115 4316',\n",
              "       'PURCHASE AUTHORIZED ON 01/17 K', 'PURCHASE AUTHORIZED ON 01/29 K',\n",
              "       'PURCHASE AUTHORIZED ON 02/13 K', 'PURCHASE AUTHORIZED ON 10/29 K',\n",
              "       'PURCHASE AUTHORIZED ON 11/16 K', 'PURCHASE AUTHORIZED ON 11/29 K',\n",
              "       'PURCHASE AUTHORIZED ON 12/16 K', 'PURCHASE AUTHORIZED ON 12/29 K',\n",
              "       'RECURRING PAYMENT AUTHORIZED O', 'CHECKCARD 0103 SELF LENDER 1 A',\n",
              "       'CHECKCARD 0202 SELF LENDER 1 A', 'CHECKCARD 1203 SELF LENDER 1 A',\n",
              "       'PAYMENT FROM AUTO BILLP', 'WEB INITIATED PAYMENT AT FIFTH',\n",
              "       'ACH Withdrawal LendingClub TYP', 'WELLS FARGO AUTO DRAFT',\n",
              "       'Withdrawal ACH OPPFINANC TYPE:', 'Withdrawal ACH AFFIRM INC TYPE',\n",
              "       'Withdrawal Bill Payment #02665', 'Withdrawal Bill Payment #09310',\n",
              "       'Withdrawal Bill Payment #13643', 'Withdrawal Bill Payment #13770',\n",
              "       'Withdrawal Bill Payment #49527', 'Withdrawal Bill Payment #49619',\n",
              "       'Withdrawal Bill Payment #53272', 'Withdrawal Bill Payment #64481',\n",
              "       'Withdrawal Bill Payment #64655', 'Withdrawal Transfer To QUEEN,K',\n",
              "       'PYMT TO AFFIRM PAY TFV - 003 A', 'PYMT TO AFFIRM PAY V8K - 003 A',\n",
              "       'PYMT TO AFFIRM PAY YAD - 003 A', 'Withdrawal Bill Payment #00693',\n",
              "       'Withdrawal Bill Payment #09418', 'Withdrawal Bill Payment #11702',\n",
              "       'Withdrawal Bill Payment #13045', 'Withdrawal Bill Payment #15280',\n",
              "       'Withdrawal Bill Payment #23707', 'Withdrawal Bill Payment #25269',\n",
              "       'Withdrawal Bill Payment #27194', 'Withdrawal Bill Payment #27483',\n",
              "       'Withdrawal Bill Payment #27918', 'Withdrawal Bill Payment #30411',\n",
              "       'Withdrawal Bill Payment #30427', 'Withdrawal Bill Payment #31834',\n",
              "       'Withdrawal Bill Payment #37601', 'Withdrawal Bill Payment #37648',\n",
              "       'Withdrawal Bill Payment #37679', 'Withdrawal Bill Payment #39719',\n",
              "       'Withdrawal Bill Payment #43330', 'Withdrawal Bill Payment #43341',\n",
              "       'Withdrawal Bill Payment #48457', 'Withdrawal Bill Payment #48531',\n",
              "       'Withdrawal Bill Payment #54278', 'Withdrawal Bill Payment #55902',\n",
              "       'Withdrawal Bill Payment #55903', 'Withdrawal Bill Payment #61318',\n",
              "       'Withdrawal Bill Payment #61320', 'Withdrawal Bill Payment #70651',\n",
              "       'Withdrawal Bill Payment #90430', 'Withdrawal Bill Payment #98158',\n",
              "       'Withdrawal Bill Payment #98166', 'Withdrawal VISA CHECK CARD Alb',\n",
              "       'Withdrawal VISA INSTANT LOC CI', 'Withdrawal GreenSky TYPE: WEB ',\n",
              "       'PAYMENT - THANK YOU REF #89257', 'Withdrawal ACH AMZ_STORECRD_PM',\n",
              "       'Withdrawal ACH CAPITAL ONE TYP', 'Withdrawal Transfer To Loan 54',\n",
              "       'Bill Payment Withdrawal #43481', 'Bill Payment Withdrawal #50110',\n",
              "       'Bill Payment Withdrawal #50420', 'Withdrawal To Loan 20',\n",
              "       'AUTOMATIC PAYMENT - THANK YOU', 'Paycheck Advance Repayment und',\n",
              "       'Bill Payment Withdrawal #43360', 'Bill Payment Withdrawal #43390',\n",
              "       'Bill Payment Withdrawal #50011', 'Bill Payment Withdrawal #50041',\n",
              "       'Bill Payment Withdrawal #50310', 'Withdrawal PNC MAKE A PMT TYPE',\n",
              "       'COMN CAP APY F1 AUTO PAY 01112', 'COMN CAP APY F1 AUTO PAY 02112',\n",
              "       'COMN CAP APY F1 AUTO PAY 12112', 'Withdrawal Bill Payment #02236',\n",
              "       'Withdrawal Bill Payment #09004', 'Withdrawal Bill Payment #13635',\n",
              "       'Withdrawal Bill Payment #39023', 'Withdrawal Bill Payment #53970',\n",
              "       'Withdrawal Bill Payment #60061', 'Withdrawal DORT FCU VISA TYPE:',\n",
              "       'ALBERT GENIUS EDI PYMNTS', 'Withdrawal CAPITAL ONE TYPE: M',\n",
              "       'Withdrawal THD Loan Svcs TYPE:', '12353 RECURRING 11/17 09:51 Kl',\n",
              "       '27827 POS PUR 01/11 00:05 SIXT', '4021 RECURRING 12/17 07:18 Kla',\n",
              "       '74309 POS PUR 01/17 16:06 Klar', '89694 POS PUR 12/08 00:06 SIXT',\n",
              "       '95016 POS PUR 11/08 00:07 SIXT', 'ONEMAIN LOAN PYMNT 46530863871',\n",
              "       'Credit Card Advance G2GCHARGE ', 'Affirm',\n",
              "       'Payment to SchoolsFirst Loan 8', 'Transfer to Credit Builder',\n",
              "       'Recurring Withdrawal Debit Mas', 'Withdrawal Bill Payment #56417',\n",
              "       'Withdrawal Bill Payment #56421', 'Withdrawal Bill Payment #56429',\n",
              "       'Withdrawal Bill Payment #56442', 'Withdrawal Bill Payment #56446',\n",
              "       'Withdrawal Bill Payment #56463', 'Withdrawal Bill Payment #85687',\n",
              "       'Withdrawal Bill Payment #85705', 'Withdrawal Bill Payment #85719',\n",
              "       'Withdrawal Bill Payment #85739', 'Withdrawal Bill Payment #85788',\n",
              "       'Withdrawal Bill Payment #85805', 'Withdrawal Bill Payment #92951',\n",
              "       'Withdrawal Bill Payment #92962', 'Withdrawal Bill Payment #92974',\n",
              "       'Withdrawal Bill Payment #92982', 'Withdrawal Bill Payment #92992',\n",
              "       'Withdrawal Bill Payment #93032', 'Withdrawal Goodleap 125 TYPE: ',\n",
              "       'Withdrawal Bill Payment #33274', 'Withdrawal Bill Payment #66873',\n",
              "       'Withdrawal Bill Payment #66983', 'CAPITAL ONE ONLINE PYMT AuthDa',\n",
              "       'WITHDRAWAL ACH CAPITAL ONE TYP', 'Withdrawal Transfer To Loan 04',\n",
              "       'Withdrawal ACH Lake Trust Cred', 'Withdrawal ACH WF PL CC PAYMEN',\n",
              "       'Goodyear', 'Purchase BUILD YOUR CREDIT TOM',\n",
              "       'Withdrawal AUTOPMT ASPIREMC TY', 'ELECTRONIC WITHDRAWAL / CONCOR',\n",
              "       'AMERICAN EXPRESS ACH PMT A3862', 'AMERICAN EXPRESS ACH PMT A4354',\n",
              "       'AMERICAN EXPRESS ACH PMT A4544', 'AMERICAN EXPRESS ACH PMT A6222',\n",
              "       'AMERICAN EXPRESS ACH PMT A6434', 'AMERICAN EXPRESS ACH PMT A7016',\n",
              "       'Withdrawal AtlasFinancial TYPE', 'xxxxx0441 PAYMENT NETCREDIT/TA',\n",
              "       'xxxxx3692 PAYMENT NETCREDIT/TA', 'xxxxx9798 PAYMENT NETCREDIT/TA',\n",
              "       'SELF LENDER 2', 'CITI CARD ONLINE', 'ACH/LIGHTSTREAM - LOAN PMTS',\n",
              "       'Withdrawal Bill Payment #21490', 'Withdrawal Bill Payment #21506',\n",
              "       'Withdrawal Bill Payment #21576', 'Withdrawal Bill Payment #31535',\n",
              "       'Withdrawal Bill Payment #63671', 'Withdrawal Bill Payment #63681',\n",
              "       'Withdrawal Bill Payment #63738', 'Withdrawal Bill Payment #75084',\n",
              "       'Withdrawal Bill Payment #92847', 'Withdrawal Bill Payment #22116',\n",
              "       'Withdrawal ACH GreenSky TYPE: ', 'Withdrawal ACH GREENSTATE CU T',\n",
              "       'Withdrawal WELLS FARGO CARD TY', 'Withdrawal ACH REPRISE FINANCI',\n",
              "       'ACH DEBIT AFFIRM INC AFFIRM PA', 'ACH DEBIT CHASE CREDIT CRD AUT',\n",
              "       'ACH DEBIT UPSTART NETWORK UPST', 'Withdrawal WELLS FARGO AUTO TY',\n",
              "       'KIKOFF* CLNPCHR6R5 KIKOFF.COM ', 'ACH Withdrawal AFFIRM INC TYPE',\n",
              "       'ACH Withdrawal UPGRADE, INC. T', 'Withdrawal Transfer To Loan 07',\n",
              "       'CREDIT FIRST NA CFNA PYMT C 37', 'CREDIT FIRST NA CFNA PYMT C 41',\n",
              "       'UPSTART NETWORK UPSTART FU 235', 'SoFi Bank PL PL PYMT T53683232',\n",
              "       'SoFi Bank PL PL PYMT T54919524', 'SoFi Bank PL PL PYMT T56372007',\n",
              "       'Withdrawal WELLS FARGO DEAL TY', 'BARCLAYCARD US CREDITCARD 1207',\n",
              "       'BARCLAYCARD US CREDITCARD 1218', 'BARCLAYCARD US CREDITCARD 1230',\n",
              "       'USAA CREDIT CARD PAYMENT', 'SYNCHRONY BANK PAYMENT Dec 09 ',\n",
              "       'SYNCHRONY BANK PAYMENT Feb 10 ', 'SYNCHRONY BANK PAYMENT Jan 08 ',\n",
              "       'BMO BANK N.A.029 AMPAYMENT PPD', 'SST Loan Pmt 46861993 WEB ID: ',\n",
              "       'ACH Debit - Atlasfinancial Pay', 'AFFIRM INC AFFIRM PAY241204',\n",
              "       'AFFIRM INC AFFIRM PAY250104', 'AFFIRM INC AFFIRM PAY250204',\n",
              "       'Withdrawal Transfer To BUGBEE,', 'Synchrony Credit Card',\n",
              "       'Albert Genius EDI PYMNTS p_103', 'Albert Genius EDI PYMNTS p_107',\n",
              "       'Albert Genius EDI PYMNTS p_111', 'PURCHASE AFFIRM * PAY',\n",
              "       'PURCHASE KLARNA* KLAR', 'PURCHASE KLARNA KLARN',\n",
              "       'PURCHASE KLARNA*KLARN', 'PURCHASE KLARNA TORRI',\n",
              "       'PURCHASE KLARNA*TORRI', 'PURCHASE KLARNA* ZENB',\n",
              "       'PURCHASE KLARNA*ZENBU', 'Withdrawal Debit MasterCard KL',\n",
              "       'Withdrawal Bill Payment #32623', 'Withdrawal Bill Payment #91827',\n",
              "       'Withdrawal Bill Payment #93301', 'LOC CITIZENS*368675051 CT 01/0',\n",
              "       'LOC CITIZENS*370245860 CT 02/0', 'LOC CITIZENS*PMT1OF0 CT 12/01',\n",
              "       'BA ELECTRONIC PAYMENT', 'BK OF AMER VI/MC - ONLINE PMT ',\n",
              "       'KIKOFF* CLTVUDCKIL', 'Withdrawal ACH MFSUSA LOAN PAY',\n",
              "       'Withdrawal To Loan 97', 'ACH Withdrawal SERVICE FINANCE',\n",
              "       'TYPE: PAYMENT ID: 1061537262 S', 'ACH Withdrawal BARCLAYCARD US ',\n",
              "       'ACH Withdrawal CITI CARD ONLIN', 'Withdrawal 0091288710 Pymt CO:',\n",
              "       'ACH/SHEFFIELD FIN - WEB DRAFT', 'AFFIRM INC AFFIRM PAY 8970580 ',\n",
              "       'AFFIRM * PAY 8ZLSTMAM CA 01/13', 'AFFIRM * PAY I5U64LE6 CA 02/13',\n",
              "       'Goodleap DES:WEB PYMNT ID:XXXX', 'Withdrawal ACH MSGCU Cons Loan',\n",
              "       'WITHDRAWAL OPCCNAC', 'Withdrawal Bill Payment #12537',\n",
              "       'Withdrawal Bill Payment #14222', 'Withdrawal Bill Payment #25936',\n",
              "       'Withdrawal MERRICK BANK TYPE: ', 'Withdrawal Debit MasterCard DA',\n",
              "       'Withdrawal Bill Payment #01944', 'Withdrawal Bill Payment #22250',\n",
              "       'Withdrawal Bill Payment #74005', 'Withdrawal E P M PAYMENT TYPE:',\n",
              "       'Debit Card Withdrawal SELF FIN', 'Withdrawal ACH Capital One TYP',\n",
              "       'Withdrawal GREENSTONE TYPE: AC', 'Withdrawal Transfer To TOMCZAK',\n",
              "       'Withdrawal ACH UPSTART NETWORK', 'Brigit-com / TYPE: PROTECTION ',\n",
              "       'Debit Card / BRIGIT NEW YORK N', 'Withdrawal ACH GREENPATH MI TY',\n",
              "       'Brigit-com DES:PROTECTION ID:0', 'Brigit-com DES:PROTECTION ID:8',\n",
              "       'Brigit-com DES:PROTECTION ID:E', 'PURCHASE 0129 VOLA NY XXXXX415',\n",
              "       'PURCHASE 1129 VOLA NY XXXXX414', 'PURCHASE 1229 VOLA NY XXXXX414',\n",
              "       'VOLA DES:VOLA ID: I25M2N9GB IN', 'VOLA DES:VOLA ID: IX6G5VB5G IN',\n",
              "       'VOLA DES:VOLA ID: IZNO52LGM IN', 'AUTOMATIC PAYMENT - THANK',\n",
              "       'Payment Received', 'Withdrawal Transfer To Loan 08',\n",
              "       'Withdrawal Bill Payment #01780', 'Withdrawal Bill Payment #50175',\n",
              "       'Withdrawal Bill Payment #61253', 'SYNCHRONY BANK PAYMENT Dec 11',\n",
              "       'SYNCHRONY BANK PAYMENT Feb 11', 'SYNCHRONY BANK PAYMENT Jan 13',\n",
              "       'Withdrawal CITIZENS ONE TYPE: ', 'ONLINE ACH PAYMENT THANK YOU',\n",
              "       'AtlasFinancial Payment 11kneb0', 'AtlasFinancial Payment 11kqr5j',\n",
              "       'AtlasFinancial Payment 11kt20z', 'AFFIRM PAY 87LR62LY',\n",
              "       'AFFIRM PAY UGBFDRDL', 'CHECKCARD 0213 AFFIRM PAY Y SA',\n",
              "       'WELLS FARGO CARDCCPYMT 121124', 'WELLS FARGO C PAYMENT 250106',\n",
              "       'WELLS FARGO C PAYMENT 250203', 'Withdrawal ACH COMENITY PAY UR',\n",
              "       'Withdrawal ACH SYNCHRONY BANK ', 'AUTOMATIC WITHDRAWAL, GREENSKY',\n",
              "       'Auto debit payment - 6328', 'Abercrombie',\n",
              "       'TRUE FINANCE LL 5817 HTTPSJOIN', 'TRUE FINANCE LL 5817 JOINTRUE.',\n",
              "       'AFFIRM * PAY 3JJMUBQ3 CA 01/10', 'AFFIRM * PAY 68QGGZ7N CA 01/11',\n",
              "       'AFFIRM * PAY DCCQWZE3 CA 01/10', 'AFFIRM * PAY G19KHYYU CA 01/11',\n",
              "       'Withdrawal Bill Payment #20097', 'Withdrawal Bill Payment #20366',\n",
              "       'Withdrawal Bill Payment #26587', 'Withdrawal Bill Payment #26623',\n",
              "       'Withdrawal Bill Payment #26628', 'Withdrawal Bill Payment #26631',\n",
              "       'Withdrawal Bill Payment #26639', 'Withdrawal Bill Payment #26643',\n",
              "       'Withdrawal Bill Payment #63244', 'Withdrawal Bill Payment #63274',\n",
              "       'Withdrawal Bill Payment #63281', 'Withdrawal Bill Payment #63337',\n",
              "       'Withdrawal Bill Payment #63343', 'Withdrawal Bill Payment #63372',\n",
              "       'Withdrawal VISA CHECK CARD BES', 'Credit Card Advance',\n",
              "       'Withdrawal NATL FIN SVC LLC TY', 'Withdrawal Transfer To ANDERSO',\n",
              "       'MFSUSA LOAN PAYM', 'Withdrawal SoFi Bank PL TYPE: ',\n",
              "       'WF PAYMENT PPD ID: 1272814169', 'GLOBAL LENDING BILL PAY 240908',\n",
              "       'GLOBAL LENDING BILL PAY 241008', 'GLOBAL LENDING BILL PAY 241108',\n",
              "       'GLOBAL LENDING BILL PAY 241208', 'GLOBAL LENDING BILL PAY 250108',\n",
              "       'GLOBAL LENDING BILL PAY 250208', 'Withdrawal BELMONT FINANCE TYP',\n",
              "       'Withdrawal VISA INSTANT UPLIFT', 'ACH Withdrawal MSGCU Cons Loan',\n",
              "       'Withdrawal ACH SERVICE FINANCE', 'Withdrawal eBanking Transfer R',\n",
              "       'Stash Financial', 'SYNCHRONY BANK Payment PPD ID:',\n",
              "       'CHASE CREDIT CRD AUTOPAY 24120', 'CHASE CREDIT CRD AUTOPAY 25010',\n",
              "       'CHASE CREDIT CRD AUTOPAY 25020', 'Withdrawal ACH ALLY TYPE: ALLY',\n",
              "       'Withdrawal Bill Payment #02396', 'Withdrawal Bill Payment #17360',\n",
              "       'Withdrawal Bill Payment #22632', 'Withdrawal Bill Payment #74184',\n",
              "       'Withdrawal DISCOVER TYPE: E-PA', 'TRANSFER TO LOAN 151 / Interne',\n",
              "       'Withdrawal TD BANK TYPE: PAYME', 'ACH Debit - Community Financ P',\n",
              "       'ACH Transaction - COMMUNITY FI', 'AUTOPAY 241111080226095RAUTOPA',\n",
              "       'Withdrawal APPLECARD GSBANK TY', 'Bill Payment Withdrawal #43520',\n",
              "       'Bill Payment Withdrawal #50170', 'Bill Payment Withdrawal #50480',\n",
              "       'SANTANDER CONSUM BILLPAY XXXXX', 'Spring Oaks Capital',\n",
              "       'Withdrawal AffirmCard TYPE: 56', 'Withdrawal AffirmCard TYPE: 5C',\n",
              "       'Withdrawal AffirmCard TYPE: 5D', 'Withdrawal Bill Payment #03369',\n",
              "       'Withdrawal Bill Payment #41007', 'Withdrawal Bill Payment #43461',\n",
              "       'Withdrawal Bill Payment #72436', 'Withdrawal Bill Payment #75344',\n",
              "       'Withdrawal Bill Payment #95077', 'Withdrawal ACH FLAGSTAR BANK N',\n",
              "       'DIRECTPAY FIXED PAYMENT', 'DISCOVER E-PAYMENT 241128',\n",
              "       'DISCOVER E-PAYMENT 241228', 'DISCOVER E-PAYMENT 250128',\n",
              "       'UPSTART NETWORK ALLIANT / 2411', 'UPSTART NETWORK ALLIANT / 2412',\n",
              "       'UPSTART NETWORK ALLIANT / 2501', 'UPSTART NETWORK ALLIANT / 2502',\n",
              "       'ACH Withdrawal EDUCATIONAL COM', 'ACH Withdrawal MERRICK BANK TY',\n",
              "       'Bill Payment Withdrawal #43400', 'Bill Payment Withdrawal #50051',\n",
              "       'Bill Payment Withdrawal #50360', 'Debit Card Withdrawal Halsted ',\n",
              "       'Withdrawal Bill Payment #34569', 'Withdrawal Bill Payment #49029',\n",
              "       'Withdrawal Bill Payment #88796', 'TYPE: E-PAYMENT ID: 3510020270',\n",
              "       'AMEX EPAYMENT TYPE: ACH PMT ID', 'CITI CARD ONLINE TYPE: PAYMENT',\n",
              "       'WITHDRAWAL ACH AMEX EPAYMENT T', '01-05-25 CHICAGO IL 8874 KLOVE',\n",
              "       '02-06-25 CHICAGO IL 8874 KLOVE', '12-06-24 CHICAGO IL 8874 KLOVE',\n",
              "       'PAYMENT SYNCHRONY BANK 6019183', 'ACH Withdrawal Zeal Credit Uni',\n",
              "       'Withdrawal COMENITY PAY NS TYP', 'Debit Card Withdrawal WAVE PRO',\n",
              "       'Varo Advance Repayment', 'Withdrawal Best Egg TYPE: PAYM',\n",
              "       'Eastman Credit U D001391015 WE', 'Eastman Credit U D001452047 WE',\n",
              "       'Eastman Credit U D001513823 WE', 'Withdrawal UNIVERSAL LENDER TY',\n",
              "       'Withdrawal PIONEER STATE MU TY', 'Withdrawal Bill Payment #29766',\n",
              "       'AMZ_STORECRD_PMT PAYMENT 60457', 'Withdrawal COMENITY PAY VI TYP',\n",
              "       'Withdrawal Credit One Bank TYP', 'Withdrawal ACH FOUNDATION LOCK',\n",
              "       'Online Payment 23042725129 To ', 'Online Payment 23392275969 To ',\n",
              "       'Online Payment 23725227960 To ', 'Payment to Chase card ending i',\n",
              "       'ACH Withdrawal PROG MICHIGAN T', 'Withdrawal Bill Payment #14587',\n",
              "       'Withdrawal Bill Payment #20807', 'Withdrawal Bill Payment #69856',\n",
              "       'Withdrawal Transfer To VESELSK', 'Withdrawal TRIAD FINANCIAL TYP',\n",
              "       'Withdrawal VISA CHECK CARD UPL', 'Withdrawal ACH AMERICAN 1 CU T',\n",
              "       'Best Egg PAYMENT 241202 451204', 'Best Egg PAYMENT 250102 451204',\n",
              "       'Best Egg PAYMENT 250203 451204', 'AVAIL.CO SERVICES',\n",
              "       'ACH Withdrawal Earnin TYPE: RE', 'Debit Card Withdrawal Earnin D',\n",
              "       'EFT MOBILE PAY MERRICK BANK', 'MERRICK BANK',\n",
              "       'Withdrawal VISA CHECK CARD Aft', 'ACH Withdrawal UPSTART NETWORK',\n",
              "       '0621 06023208 AFFIRM PAY 54QGL', '0723 07453204 AFFIRM PAY QQ7A6',\n",
              "       '0942 09263208 AFFIRM PAY 5BEZ6', 'Withdrawal Bill Payment #15371',\n",
              "       'Withdrawal Bill Payment #26657', 'Withdrawal Bill Payment #26684',\n",
              "       'Withdrawal Bill Payment #44022', 'Withdrawal Bill Payment #48035',\n",
              "       'Withdrawal Bill Payment #48061', 'Withdrawal ACH ACI***AccessOne',\n",
              "       'Float Me Fund I Llc Db', 'AFFIRM INC AFFIRM PAY 1022013 ',\n",
              "       'AFFIRM INC AFFIRM PAY 8846468 ', 'AFFIRM INC AFFIRM PAY 9845025 ',\n",
              "       'ROCKETLOANS TX RLM PPD ID: 917', 'HUNTINGTON BANKS IL PAYMENT 20',\n",
              "       'Kikoff', 'KIKOFF* CLD74EM45H KIKOFF.COM ', 'SELF FINANCIAL INC',\n",
              "       'SELF LENDER INC PAYMENTS 11108', 'SELF LENDER INC PAYMENTS 11193',\n",
              "       'SELF LENDER INC PAYMENTS 11284', 'Bill Payment Withdrawal #50020',\n",
              "       'Bill Payment Withdrawal #50330', 'Withdrawal Bill Payment #05970',\n",
              "       'Withdrawal Bill Payment #89274', 'Withdrawal Bill Payment #99576',\n",
              "       'Withdrawal UPGRADE, INC. TYPE:', 'Credit Builder Payment',\n",
              "       'Withdrawal Transfer To MITCHEL', 'xxxxxxxxxxx4220 CC PYMT Synchr',\n",
              "       'Withdrawal FLAGSTAR BANK NA TY', 'Withdrawal 0022667511 Pymt CO:',\n",
              "       'Withdrawal To Loan 92', 'ELECTRONIC WITHDRAWAL / COMENI',\n",
              "       'ELECTRONIC WITHDRAWAL / UPGRAD', 'ELECTRONIC WITHDRAWAL / UPSTAR',\n",
              "       'Withdrawal ACH CITIBANK LOAN T', 'To Credit Builder',\n",
              "       'Withdrawal LAUNCH SERVICING TY', 'ACH Withdrawal Synchrony Bank ',\n",
              "       'AFFIRM PAY AFFIRM INC WEB 6095', 'AFFIRM PAY AFFIRM INC WEB 6339',\n",
              "       'AFFIRM PAY AFFIRM INC WEB 7019', 'DBT CRD 0014 02/03/25 84 SUNBI',\n",
              "       'DBT CRD 1119 12/06/24 40 SUNBI', 'DBT CRD 1201 12/06/24 08 SUNBI',\n",
              "       'DBT CRD 2212 01/03/25 30 SUNBI', 'DBT CRD 2325 02/02/25 73 SUNBI',\n",
              "       'DBT CRD 2340 01/03/25 04 SUNBI', 'TRUE FINANCE LLC',\n",
              "       'Target Card', 'Web Authorized Pmt 12/05 Upgra',\n",
              "       'Web Authorized Pmt Upgrade, In', 'Capital One Card Pymt',\n",
              "       'OneMain Financial', 'PURCHASE ALBERT GENIU',\n",
              "       'PURCHASE PNM*ONEMAIN', 'Payment Thank You-Mobile',\n",
              "       'AFFIRM INC AFFIRM PAY 5319424 ', 'AFFIRM INC AFFIRM PAY 5319434 ',\n",
              "       'AFFIRM INC AFFIRM PAY 5319456 ', 'AFFIRM INC AFFIRM PAY 5329932 ',\n",
              "       'AFFIRM INC AFFIRM PAY 6095213 ', 'AFFIRM INC AFFIRM PAY 6095237 ',\n",
              "       'AFFIRM INC AFFIRM PAY 6100033 ', 'AFFIRM INC AFFIRM PAY 6104859 ',\n",
              "       'AFFIRM INC AFFIRM PAY 6104879 ', 'AFFIRM INC AFFIRM PAY 6115907 ',\n",
              "       'AFFIRM INC AFFIRM PAY 6120736 ', 'AFFIRM INC AFFIRM PAY 6133018 ',\n",
              "       'SYNCHRONY BANK PAYMENT 6019194', 'Credit Card Advance VREDEVOOGD',\n",
              "       'Albert Genius Covina CA 12/13', 'Albert Genius EDI PYMNTS p_108',\n",
              "       'Albert Genius EDI PYMNTS p_112', 'CHASE CREDIT CRD AUTOPAY PPD I',\n",
              "       'CHASE CREDIT CRD RETRY PYMT PP', 'ACH/COMMUNITY FINANC - P2PEXT ',\n",
              "       'ACH/FIGURE LENDING L - FIGUREP', 'SUNBIT_Premier_Smile_Ce Fort_L',\n",
              "       'ACH Withdrawal WF PL CC PAYMEN', 'AFFIRM INC AFFIRM PAY',\n",
              "       'AFFIRM INC AFFIRM PAY~ Future ', 'PURCHASE 0105 SQSP* INVXXXXX03',\n",
              "       'PURCHASE 1130 SQSP* INVXXXXX52', 'Bill Payment Withdrawal #43440',\n",
              "       'Bill Payment Withdrawal #43501', 'Bill Payment Withdrawal #50090',\n",
              "       'Bill Payment Withdrawal #50100', 'Bill Payment Withdrawal #50381',\n",
              "       'Bill Payment Withdrawal #50390', 'Debit Card Withdrawal Klarna*k',\n",
              "       'Debit Card Withdrawal KLARNA* ', 'Withdrawal ACH COMENITY APY F2',\n",
              "       'Withdrawal VISA INSTANT Klarna', 'Withdrawal Bill Payment #27005',\n",
              "       'Withdrawal Bill Payment #76643', 'Withdrawal Bill Payment #88102',\n",
              "       'AFFIRM INC AFFIRM PAY 241204 5', 'AFFIRM INC AFFIRM PAY 250106 7',\n",
              "       'AFFIRM INC AFFIRM PAY 250210 0', 'Withdrawal Bill Payment #16666',\n",
              "       'Withdrawal Bill Payment #32587', 'Withdrawal Bill Payment #54682',\n",
              "       'Withdrawal VISA INSTANT SEZZLE', 'Withdrawal ACH CHASE CREDIT CR',\n",
              "       'Withdrawal-ACH-A-EARNIN WEBEar', 'Withdrawal-ACH-A-EMPOWER Empow',\n",
              "       'Withdrawal-ACH-A-EMPOWER WEBEm', 'Withdrawal To Loan 51',\n",
              "       'Withdrawal Transfer To Loan 13', 'Withdrawal Bill Payment #24145',\n",
              "       'Withdrawal Bill Payment #24259', 'Withdrawal Bill Payment #26274',\n",
              "       'Withdrawal Bill Payment #37804', 'Withdrawal Bill Payment #37911',\n",
              "       'Withdrawal Bill Payment #41101', 'Withdrawal Bill Payment #59597',\n",
              "       'Withdrawal Bill Payment #67164', 'Withdrawal Bill Payment #68453',\n",
              "       'Withdrawal Bill Payment #68622', 'Withdrawal Bill Payment #73515',\n",
              "       'Withdrawal Bill Payment #76591', 'Withdrawal Bill Payment #87044',\n",
              "       'Synchrony Bank CC PYMT 6019194', 'UPSTART NETWORK UPST LOANS 194',\n",
              "       'Withdrawal To Loan 21', 'ACH Withdrawal AMEX EPAYMENT T',\n",
              "       'ACH Withdrawal HAPPY MONEY TYP', 'WITHDRAWAL TRANSFER TO LOAN 14',\n",
              "       'Withdrawal To Loan 94', 'Withdrawal ACH PROSPER MARKETP',\n",
              "       'Withdrawal ACH SoFi Bank PL TY', 'Klover Plus',\n",
              "       'AFFIRM PAY FFMRZLLN', 'AFFIRM PAY GGMXESRG',\n",
              "       'AFFIRM PAY QL95VT6I', 'Withdrawal CHASE CREDIT CRD TY',\n",
              "       'Credit One Bank Payment 640968', 'UPSTART NETWORK UP CALLIST2411',\n",
              "       'UPSTART NETWORK UP CALLIST2412', 'UPSTART NETWORK UP CALLIST2501',\n",
              "       'UPSTART NETWORK UP CALLIST2502', 'Withdrawal Bill Payment #13674',\n",
              "       'Withdrawal Bill Payment #27806', 'Withdrawal Bill Payment #28327',\n",
              "       'Withdrawal Bill Payment #81889', 'Withdrawal Bill Payment #90872',\n",
              "       'Withdrawal Bill Payment #94194', 'PROSPER MARKETPL DES:GT2022-1 ',\n",
              "       'Withdrawal TotalCard Yamaha TY', 'ACH PMTS THE DART BANK WEB 724',\n",
              "       'Withdrawal Bill Payment #01425', 'Withdrawal Bill Payment #21926',\n",
              "       'Withdrawal Bill Payment #52952', 'Withdrawal Dort FCU TYPE: LOAN',\n",
              "       'Withdrawal Avant LLC 800-71 TY', 'Withdrawal Mission Lane LLC TY',\n",
              "       'Best Egg PAYMENT 241202 454086', 'Best Egg PAYMENT 241230 454086',\n",
              "       'Best Egg PAYMENT 250130 454086', 'Withdrawal CAPITAL ONE TYPE: P',\n",
              "       'ACH Debit Harley-Davidson Auto', 'ACH Debit HarleyDavidson HDFS ',\n",
              "       'Loan Payment From Share 86', 'Loan Payment From Share 86 Par',\n",
              "       'Withdrawal Security CU TYPE: P', 'POS MAC AFFIRM PAY 92Q SAN FRA',\n",
              "       'POS MAC AFFIRM PAY L7W SAN FRA', 'POS MAC AFFIRM PAY O5Y SAN FRA',\n",
              "       'Credit Karma Transfer 241216 1', 'Credit Karma Transfer 250114 1',\n",
              "       'Credit Karma Transfer 250214 1', 'Web Authorized Pmt Synchrony B',\n",
              "       'Withdrawal 360 SHEFFIELD FI TY', 'WEB INITIATED PAYMENT AT GREEN',\n",
              "       'Brigit', 'Brigit.com', 'Withdrawal VISA INSTANT ZIP* A',\n",
              "       'ACH Withdrawal CHASE CREDIT CR', 'Withdrawal CITI AUTOPAY TYPE: ',\n",
              "       'Withdrawal CITIZENS PAY TYPE: ', 'Withdrawal Equity Sales Fin TY',\n",
              "       'Kikoff* Cluikeykm6', 'ACH Withdrawal BYTEPAY TYPE: P',\n",
              "       'AFFIRM INC AFFIRM PAY 5243335 ', 'AFFIRM INC AFFIRM PAY 5243336 ',\n",
              "       'AFFIRM INC AFFIRM PAY 6835811 ', 'AFFIRM INC AFFIRM PAY 6835814 ',\n",
              "       'AFFIRM INC AFFIRM PAY 7750179 ', 'AFFIRM INC AFFIRM PAY 7750180 ',\n",
              "       'PAYPAL INST XFER PYPL PAYMTHLY', 'Withdrawal PREFERRED CREDIT TY',\n",
              "       'ACH Withdrawal Happy Money TYP', 'Withdrawal ACH COMENITY PAY OH',\n",
              "       'SELF FINANCIAL INC MN USA 9600', 'Brigit-com TYPE: PROTECTION ID',\n",
              "       'Signature Based ACI NONFIN SER', 'APPLECARD GSBANK PAYMENT 10951',\n",
              "       'RYCO-WB127OP WEB PMTS 4JLWQH W', 'RYCO-WB127OP WEB PMTS RCRZXH W',\n",
              "       'Withdrawal VISA CHECK CARD KIK', 'Credit Card Advance SP SWEARYK',\n",
              "       'Pos Debit- 9651 9651 Albert Ge', 'AFFIRM P SAN FRANCISCO CA AFFI',\n",
              "       'Sephora', 'ACH Withdrawal Genisys CU TYPE'], dtype=object)"
            ]
          },
          "metadata": {},
          "execution_count": 26
        }
      ]
    },
    {
      "cell_type": "markdown",
      "source": [
        "a. % of users who are using BNPL"
      ],
      "metadata": {
        "id": "2LeuNfW2dTAU"
      }
    },
    {
      "cell_type": "code",
      "source": [
        "total_users = df['userId'].nunique()\n",
        "bnpl_users = df_bnpl['userId'].nunique()\n",
        "pct_bnpl_users = bnpl_users / total_users * 100"
      ],
      "metadata": {
        "id": "N6sZvYSyVyQh"
      },
      "execution_count": 8,
      "outputs": []
    },
    {
      "cell_type": "code",
      "source": [
        "pct_bnpl_users"
      ],
      "metadata": {
        "colab": {
          "base_uri": "https://localhost:8080/"
        },
        "id": "92n-DqbYdb9w",
        "outputId": "8ef93890-2b22-493a-bfc1-71d2ed3db3bc"
      },
      "execution_count": 9,
      "outputs": [
        {
          "output_type": "execute_result",
          "data": {
            "text/plain": [
              "14.4349477682811"
            ]
          },
          "metadata": {},
          "execution_count": 9
        }
      ]
    },
    {
      "cell_type": "markdown",
      "source": [
        "b. average number of transactions in this category per month per user"
      ],
      "metadata": {
        "id": "LgJ83KTqehdK"
      }
    },
    {
      "cell_type": "code",
      "source": [
        "df_bnpl['year_month'] = df_bnpl['date'].dt.to_period('M')"
      ],
      "metadata": {
        "colab": {
          "base_uri": "https://localhost:8080/"
        },
        "id": "UFWN9JwRd4sU",
        "outputId": "c6a7e730-6603-46cd-fdee-eeb53d16a811"
      },
      "execution_count": 10,
      "outputs": [
        {
          "output_type": "stream",
          "name": "stderr",
          "text": [
            "<ipython-input-10-20b147838d69>:1: SettingWithCopyWarning: \n",
            "A value is trying to be set on a copy of a slice from a DataFrame.\n",
            "Try using .loc[row_indexer,col_indexer] = value instead\n",
            "\n",
            "See the caveats in the documentation: https://pandas.pydata.org/pandas-docs/stable/user_guide/indexing.html#returning-a-view-versus-a-copy\n",
            "  df_bnpl['year_month'] = df_bnpl['date'].dt.to_period('M')\n"
          ]
        }
      ]
    },
    {
      "cell_type": "code",
      "source": [
        "monthly_txn_counts = (\n",
        "    df_bnpl\n",
        "    .groupby(['userId', 'year_month'])\n",
        "    .size()\n",
        "    .reset_index(name='txns')\n",
        ")\n",
        "avg_txns_per_user_month = monthly_txn_counts['txns'].mean()"
      ],
      "metadata": {
        "id": "mg6geTwLdc83"
      },
      "execution_count": 11,
      "outputs": []
    },
    {
      "cell_type": "code",
      "source": [
        "avg_txns_per_user_month = monthly_txn_counts['txns'].mean()\n"
      ],
      "metadata": {
        "id": "q4zetTyFePkV"
      },
      "execution_count": 12,
      "outputs": []
    },
    {
      "cell_type": "code",
      "source": [
        "print(f\"Average BNPL transactions per month per user : {avg_txns_per_user_month:.2f}\")"
      ],
      "metadata": {
        "colab": {
          "base_uri": "https://localhost:8080/"
        },
        "id": "RfMM34ObbEQ1",
        "outputId": "5e2c1d12-029d-4990-9d2f-f8dba27c515c"
      },
      "execution_count": 28,
      "outputs": [
        {
          "output_type": "stream",
          "name": "stdout",
          "text": [
            "Average BNPL transactions per month per user : 1.67\n"
          ]
        }
      ]
    },
    {
      "cell_type": "markdown",
      "source": [
        "c. average total monthly debt burden caused by BNPL & changes YoY"
      ],
      "metadata": {
        "id": "apicswYQeUiG"
      }
    },
    {
      "cell_type": "code",
      "source": [
        "monthly_debt = (\n",
        "    df_bnpl\n",
        "    .groupby(['userId', 'year_month'])['amount']\n",
        "    .sum()\n",
        "    .reset_index(name='debt')\n",
        ")\n",
        "avg_debt_per_user_month = monthly_debt['debt'].mean()\n"
      ],
      "metadata": {
        "id": "JpzbtIzFeSAK"
      },
      "execution_count": 13,
      "outputs": []
    },
    {
      "cell_type": "code",
      "source": [
        "monthly_debt['year'] = monthly_debt['year_month'].dt.year\n",
        "yearly_avg_debt = monthly_debt.groupby('year')['debt'].mean()\n",
        "yoy_change = yearly_avg_debt.pct_change().dropna() * 100"
      ],
      "metadata": {
        "id": "wHFz8qhyeYM7"
      },
      "execution_count": 14,
      "outputs": []
    },
    {
      "cell_type": "code",
      "source": [
        "print(f\"Percent of users using BNPL: {pct_bnpl_users:.2f}%\")\n",
        "print(f\"Average BNPL transactions per per month per user : {avg_txns_per_user_month:.2f}\")\n",
        "print(f\"Average monthly BNPL debt per user: ${avg_debt_per_user_month:.2f}\\n\")\n",
        "\n",
        "print(\"Yearly average BNPL debt per user:\")\n",
        "print(yearly_avg_debt, \"\\n\")\n",
        "\n",
        "print(\"YOY change in average BNPL debt per user (%):\")\n",
        "print(yoy_change)"
      ],
      "metadata": {
        "colab": {
          "base_uri": "https://localhost:8080/"
        },
        "id": "jsgqXIcgecwq",
        "outputId": "3b672b88-0745-4da3-99c6-a26308099b0b"
      },
      "execution_count": 29,
      "outputs": [
        {
          "output_type": "stream",
          "name": "stdout",
          "text": [
            "Percent of users using BNPL: 14.43%\n",
            "Average BNPL transactions per per month per user : 1.67\n",
            "Average monthly BNPL debt per user: $361.84\n",
            "\n",
            "Yearly average BNPL debt per user:\n",
            "year\n",
            "2024    364.809734\n",
            "2025    359.981439\n",
            "Name: debt, dtype: float64 \n",
            "\n",
            "YOY change in average BNPL debt per user (%):\n",
            "year\n",
            "2025   -1.323511\n",
            "Name: debt, dtype: float64\n"
          ]
        }
      ]
    },
    {
      "cell_type": "code",
      "source": [],
      "metadata": {
        "id": "z9R7J9c_epjO"
      },
      "execution_count": null,
      "outputs": []
    }
  ]
}